{
 "cells": [
  {
   "cell_type": "code",
   "execution_count": 1,
   "metadata": {},
   "outputs": [],
   "source": [
    "import pandas\n",
    "from janome.tokenizer import Tokenizer\n",
    "from sklearn.model_selection import train_test_split\n",
    "from sklearn.feature_extraction.text import CountVectorizer\n",
    "from sklearn.linear_model import LogisticRegression\n",
    "from sklearn.metrics import accuracy_score, precision_score, recall_score, roc_auc_score, f1_score, confusion_matrix"
   ]
  },
  {
   "cell_type": "code",
   "execution_count": 2,
   "metadata": {},
   "outputs": [],
   "source": [
    "# データセット自体の再配布は禁止なので、Gitコミット時に出力を消す\n",
    "def no_redistribution(data):\n",
    "    pass\n",
    "    # return data"
   ]
  },
  {
   "cell_type": "code",
   "execution_count": 3,
   "metadata": {},
   "outputs": [],
   "source": [
    "df = pandas.read_csv('/app/data/purin-tsv.tsv', sep='\\t', skiprows=1, names=('id', 'tweet_id', 'text', 'url', 'label', 'keyword'))\n",
    "no_redistribution(df.head())"
   ]
  },
  {
   "cell_type": "code",
   "execution_count": 4,
   "metadata": {},
   "outputs": [],
   "source": [
    "def load_dataset():\n",
    "    df = df = pandas.read_csv('/app/data/purin-tsv.tsv', sep='\\t', skiprows=1, names=('id', 'tweet_id', 'text', 'url', 'label', 'keyword'))\n",
    "    df = df.dropna(subset=['label'])\n",
    "    print('length: ', len(df))\n",
    "    return df['text'].values, df['label'].values"
   ]
  },
  {
   "cell_type": "code",
   "execution_count": 5,
   "metadata": {},
   "outputs": [
    {
     "name": "stdout",
     "output_type": "stream",
     "text": [
      "length:  303\n"
     ]
    }
   ],
   "source": [
    "no_redistribution(load_dataset())"
   ]
  },
  {
   "cell_type": "code",
   "execution_count": 6,
   "metadata": {},
   "outputs": [
    {
     "data": {
      "text/plain": [
       "['今日', 'の', 'ご飯', 'は', '焼肉', 'です']"
      ]
     },
     "execution_count": 6,
     "metadata": {},
     "output_type": "execute_result"
    }
   ],
   "source": [
    "t = Tokenizer()\n",
    "def tokenize(text):\n",
    "    return t.tokenize(text, wakati=True)\n",
    "\n",
    "list(tokenize(\"今日のご飯は焼肉です\"))"
   ]
  },
  {
   "cell_type": "code",
   "execution_count": 7,
   "metadata": {},
   "outputs": [],
   "source": [
    "class Trainer():\n",
    "    def __init__(self, x_train, y_train, x_test, y_test,\n",
    "        lowercase=False, tokenize=None, preprocessor=None) -> None:\n",
    "        self.x_train = x_train\n",
    "        self.y_train = y_train\n",
    "        self.x_test = x_test\n",
    "        self.y_test = y_test\n",
    "        self.lowercase = lowercase\n",
    "        self.tokenize = tokenize\n",
    "        self.preprocessor = preprocessor\n",
    "        self.vectorizer = CountVectorizer(lowercase=self.lowercase,\n",
    "            tokenizer=self.tokenize,\n",
    "            preprocessor=self.preprocessor)\n",
    "\n",
    "    def train(self):\n",
    "        x_train_vec = self.vectorizer.fit_transform(self.x_train)\n",
    "        # Positiveが極端に少ない不均衡データセットなので重みをつける。 TODO: ちゃんと計算する\n",
    "        weights = {\n",
    "            0: 1 / 287,\n",
    "            1: 1 / 16,\n",
    "        }\n",
    "        self.model = LogisticRegression(solver='liblinear', class_weight=weights)\n",
    "        self.model.fit(x_train_vec, self.y_train)\n",
    "        return self.model\n",
    "\n",
    "    def predict(self, x, proba = True):\n",
    "        x_vec = self.vectorizer.transform(x)\n",
    "        if proba:\n",
    "            predictor = self.model.predict_proba\n",
    "        else:\n",
    "            predictor = self.model.predict\n",
    "        return predictor(x_vec)\n",
    "\n",
    "    def eval_and_print(self):\n",
    "        y_pred = self.predict(self.x_test, proba=False)\n",
    "        print('accuracy_score', accuracy_score(self.y_test, y_pred))\n",
    "        print('precision_score', precision_score(self.y_test, y_pred))\n",
    "        print('recall_score', recall_score(self.y_test, y_pred))\n",
    "        print('roc_auc_score', roc_auc_score(self.y_test, y_pred))\n",
    "        print('f1_score', f1_score(self.y_test, y_pred))\n",
    "        tn, fp, fn, tp = confusion_matrix(self.y_test, y_pred).ravel()\n",
    "        print('tn, fp, fn, tp', tn, fp, fn, tp)\n"
   ]
  },
  {
   "cell_type": "code",
   "execution_count": 8,
   "metadata": {},
   "outputs": [
    {
     "name": "stdout",
     "output_type": "stream",
     "text": [
      "length:  303\n"
     ]
    }
   ],
   "source": [
    "x, y = load_dataset()\n",
    "x_train, x_test, y_train, y_test = train_test_split(x, y, test_size=0.2, random_state=0)\n",
    "trainer = Trainer(x_train, y_train, x_test, y_test, tokenize=tokenize)\n",
    "\n",
    "model = trainer.train()"
   ]
  },
  {
   "cell_type": "code",
   "execution_count": 9,
   "metadata": {},
   "outputs": [
    {
     "name": "stdout",
     "output_type": "stream",
     "text": [
      "accuracy_score 0.8524590163934426\n",
      "precision_score 0.0\n",
      "recall_score 0.0\n",
      "roc_auc_score 0.4642857142857143\n",
      "f1_score 0.0\n",
      "tn, fp, fn, tp 52 4 5 0\n"
     ]
    }
   ],
   "source": [
    "trainer.eval_and_print()"
   ]
  },
  {
   "cell_type": "code",
   "execution_count": 10,
   "metadata": {},
   "outputs": [
    {
     "data": {
      "text/plain": [
       "array([[0.49908017, 0.50091983]])"
      ]
     },
     "execution_count": 10,
     "metadata": {},
     "output_type": "execute_result"
    }
   ],
   "source": [
    "trainer.predict(['ポケモンのプリンとニャースとイーブイかわいい'])"
   ]
  },
  {
   "cell_type": "code",
   "execution_count": 11,
   "metadata": {},
   "outputs": [
    {
     "data": {
      "text/plain": [
       "array([[0.53211884, 0.46788116]])"
      ]
     },
     "execution_count": 11,
     "metadata": {},
     "output_type": "execute_result"
    }
   ],
   "source": [
    "trainer.predict(['焼きプリンおいしい'])"
   ]
  },
  {
   "cell_type": "code",
   "execution_count": null,
   "metadata": {},
   "outputs": [],
   "source": []
  }
 ],
 "metadata": {
  "interpreter": {
   "hash": "028baece2d5c9c450a926b56a2feb9be08d5da082e5e98dbd5d7f0ec42d420e8"
  },
  "kernelspec": {
   "display_name": "Python 3.10.0 64-bit ('purin-nlp-9TtSrW0h-py3.10': poetry)",
   "language": "python",
   "name": "python3"
  },
  "language_info": {
   "codemirror_mode": {
    "name": "ipython",
    "version": 3
   },
   "file_extension": ".py",
   "mimetype": "text/x-python",
   "name": "python",
   "nbconvert_exporter": "python",
   "pygments_lexer": "ipython3",
   "version": "3.10.0"
  },
  "orig_nbformat": 4
 },
 "nbformat": 4,
 "nbformat_minor": 2
}
