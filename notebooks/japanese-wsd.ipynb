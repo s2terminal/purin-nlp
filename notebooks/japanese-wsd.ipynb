{
 "cells": [
  {
   "cell_type": "code",
   "execution_count": 1,
   "metadata": {},
   "outputs": [
    {
     "name": "stdout",
     "output_type": "stream",
     "text": [
      "  % Total    % Received % Xferd  Average Speed   Time    Time     Time  Current\n",
      "                                 Dload  Upload   Total   Spent    Left  Speed\n",
      "100  132k  100  132k    0     0   437k      0 --:--:-- --:--:-- --:--:--  436k\n"
     ]
    }
   ],
   "source": [
    "# SNOW E19:話題に基づく語義曖昧性解消評価セット [言語商会] https://www.jnlp.org/GengoHouse/snow/e19\n",
    "# 「ウイルス」が、「コンピュータ」「医療（その他）」のいずれか\n",
    "!curl -o /app/tmp/wsd-dataset.tsv https://raw.githubusercontent.com/nut-jnlp/JapaneseTopicWSD/master/WSD_Dataset/%E3%82%A6%E3%82%A4%E3%83%AB%E3%82%B9.tsv"
   ]
  },
  {
   "cell_type": "code",
   "execution_count": 2,
   "metadata": {},
   "outputs": [],
   "source": [
    "import pandas\n",
    "from janome.tokenizer import Tokenizer\n",
    "from sklearn.model_selection import train_test_split\n",
    "from sklearn.feature_extraction.text import CountVectorizer\n",
    "from sklearn.linear_model import LogisticRegression\n",
    "from sklearn.metrics import accuracy_score"
   ]
  },
  {
   "cell_type": "code",
   "execution_count": 3,
   "metadata": {},
   "outputs": [],
   "source": [
    "# データセット自体の再配布は禁止なので、Gitコミット時に出力を消す\n",
    "def no_redistribution(data):\n",
    "    pass\n",
    "    # return data"
   ]
  },
  {
   "cell_type": "code",
   "execution_count": 4,
   "metadata": {},
   "outputs": [],
   "source": [
    "\n",
    "df = pandas.read_csv('/app/tmp/wsd-dataset.tsv', sep='\\t', skiprows=1, names=('label', 'keyword', 'text'))\n",
    "no_redistribution(df.head())"
   ]
  },
  {
   "cell_type": "code",
   "execution_count": 5,
   "metadata": {},
   "outputs": [],
   "source": [
    "no_redistribution(df['label'].apply(lambda x: 1 if x == \"コンピュータ\" else 0))"
   ]
  },
  {
   "cell_type": "code",
   "execution_count": 6,
   "metadata": {},
   "outputs": [],
   "source": [
    "no_redistribution(train_test_split(df))"
   ]
  },
  {
   "cell_type": "code",
   "execution_count": 7,
   "metadata": {},
   "outputs": [],
   "source": [
    "def load_dataset():\n",
    "    df = pandas.read_csv('/app/tmp/wsd-dataset.tsv', sep='\\t', skiprows=1, names=('label', 'keyword', 'text'))\n",
    "    df['label'] = df['label'].apply(lambda x: 1 if x == \"コンピュータ\" else 0)\n",
    "    return df['text'].values, df['label'].values"
   ]
  },
  {
   "cell_type": "code",
   "execution_count": 8,
   "metadata": {},
   "outputs": [
    {
     "data": {
      "text/plain": [
       "['今日', 'の', 'ご飯', 'は', '焼肉', 'です']"
      ]
     },
     "execution_count": 8,
     "metadata": {},
     "output_type": "execute_result"
    }
   ],
   "source": [
    "t = Tokenizer()\n",
    "def tokenize(text):\n",
    "    return t.tokenize(text, wakati=True)\n",
    "\n",
    "list(tokenize(\"今日のご飯は焼肉です\"))"
   ]
  },
  {
   "cell_type": "code",
   "execution_count": 9,
   "metadata": {},
   "outputs": [],
   "source": [
    "x, y = load_dataset()"
   ]
  },
  {
   "cell_type": "code",
   "execution_count": 10,
   "metadata": {},
   "outputs": [],
   "source": [
    "class Trainer():\n",
    "    def __init__(self, x_train, y_train, x_test, y_test,\n",
    "        lowercase=False, tokenize=None, preprocessor=None) -> None:\n",
    "        self.x_train = x_train\n",
    "        self.y_train = y_train\n",
    "        self.x_test = x_test\n",
    "        self.y_test = y_test\n",
    "        self.lowercase = lowercase\n",
    "        self.tokenize = tokenize\n",
    "        self.preprocessor = preprocessor\n",
    "        self.vectorizer = CountVectorizer(lowercase=self.lowercase,\n",
    "            tokenizer=self.tokenize,\n",
    "            preprocessor=self.preprocessor)\n",
    "\n",
    "    def train(self):\n",
    "        x_train_vec = self.vectorizer.fit_transform(self.x_train)\n",
    "        self.model = LogisticRegression(solver='liblinear')\n",
    "        self.model.fit(x_train_vec, self.y_train)\n",
    "        return self.model\n",
    "\n",
    "    def predict(self, x, proba = True):\n",
    "        x_vec = self.vectorizer.transform(x)\n",
    "        if proba:\n",
    "            predictor = self.model.predict_proba\n",
    "        else:\n",
    "            predictor = self.model.predict\n",
    "        return predictor(x_vec)\n",
    "\n",
    "    def eval_and_print(self):\n",
    "        y_pred = self.predict(self.x_test, proba=False)\n",
    "        score = accuracy_score(self.y_test, y_pred)\n",
    "        print('{:.4f}'.format(score))\n"
   ]
  },
  {
   "cell_type": "code",
   "execution_count": 11,
   "metadata": {},
   "outputs": [],
   "source": [
    "x_train, x_test, y_train, y_test = train_test_split(x, y, test_size=0.2, random_state=0)"
   ]
  },
  {
   "cell_type": "code",
   "execution_count": 12,
   "metadata": {},
   "outputs": [],
   "source": [
    "trainer = Trainer(x_train, y_train, x_test, y_test, tokenize=tokenize)\n",
    "\n",
    "model = trainer.train()"
   ]
  },
  {
   "cell_type": "code",
   "execution_count": 13,
   "metadata": {},
   "outputs": [
    {
     "name": "stdout",
     "output_type": "stream",
     "text": [
      "0.8681\n"
     ]
    }
   ],
   "source": [
    "trainer.eval_and_print()"
   ]
  },
  {
   "cell_type": "code",
   "execution_count": 14,
   "metadata": {},
   "outputs": [
    {
     "data": {
      "text/plain": [
       "array([[0.44765467, 0.55234533]])"
      ]
     },
     "execution_count": 14,
     "metadata": {},
     "output_type": "execute_result"
    }
   ],
   "source": [
    "trainer.predict(['このパソコンはウイルスに感染しました'])"
   ]
  },
  {
   "cell_type": "code",
   "execution_count": 15,
   "metadata": {},
   "outputs": [
    {
     "data": {
      "text/plain": [
       "array([[0.64684021, 0.35315979]])"
      ]
     },
     "execution_count": 15,
     "metadata": {},
     "output_type": "execute_result"
    }
   ],
   "source": [
    "trainer.predict(['ウイルスが飛散しています'])"
   ]
  }
 ],
 "metadata": {
  "interpreter": {
   "hash": "028baece2d5c9c450a926b56a2feb9be08d5da082e5e98dbd5d7f0ec42d420e8"
  },
  "kernelspec": {
   "display_name": "Python 3.10.0 64-bit ('purin-nlp-9TtSrW0h-py3.10': poetry)",
   "language": "python",
   "name": "python3"
  },
  "language_info": {
   "codemirror_mode": {
    "name": "ipython",
    "version": 3
   },
   "file_extension": ".py",
   "mimetype": "text/x-python",
   "name": "python",
   "nbconvert_exporter": "python",
   "pygments_lexer": "ipython3",
   "version": "3.10.0"
  },
  "orig_nbformat": 4
 },
 "nbformat": 4,
 "nbformat_minor": 2
}
