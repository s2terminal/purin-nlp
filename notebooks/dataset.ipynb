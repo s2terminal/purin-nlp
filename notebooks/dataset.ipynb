{
 "cells": [
  {
   "cell_type": "code",
   "execution_count": 1,
   "metadata": {},
   "outputs": [],
   "source": [
    "# データセット自体の再配布は禁止なので、Gitコミット時に出力を消す\n",
    "def no_redistribution(data):\n",
    "    pass\n",
    "    # return data"
   ]
  },
  {
   "cell_type": "code",
   "execution_count": 2,
   "metadata": {},
   "outputs": [],
   "source": [
    "import pandas\n",
    "df_purin = pandas.read_table('/app/data/twitter_api_data/プリン.tsv')\n",
    "no_redistribution(df_purin.head())"
   ]
  },
  {
   "cell_type": "code",
   "execution_count": 3,
   "metadata": {},
   "outputs": [],
   "source": [
    "df_pukurin = pandas.read_table('/app/data/twitter_api_data/プクリン.tsv')\n",
    "no_redistribution(df_pukurin.head())"
   ]
  },
  {
   "cell_type": "code",
   "execution_count": 4,
   "metadata": {},
   "outputs": [],
   "source": [
    "df_pupurin = pandas.read_table('/app/data/twitter_api_data/ププリン.tsv')\n",
    "no_redistribution(df_pupurin.head())"
   ]
  },
  {
   "cell_type": "code",
   "execution_count": 5,
   "metadata": {},
   "outputs": [],
   "source": [
    "def gen_1_label(df: pandas.DataFrame):\n",
    "    ret = pandas.DataFrame()\n",
    "    ret['text'] = df['text'].apply(lambda x: str(x).replace('ププリン', 'プリン').replace('プクリン', 'プリン'))\n",
    "    ret['label'] = 1\n",
    "    return ret\n",
    "\n",
    "no_redistribution(gen_1_label(df_pukurin))"
   ]
  },
  {
   "cell_type": "code",
   "execution_count": 6,
   "metadata": {},
   "outputs": [],
   "source": [
    "def gen():\n",
    "    df = pandas.DataFrame()\n",
    "    df_purin = pandas.read_table('/app/data/purin-tsv.tsv').dropna(subset=['label'])\n",
    "    df_pukurin = pandas.read_table('/app/data/twitter_api_data/プクリン.tsv')\n",
    "    df_pupurin = pandas.read_table('/app/data/twitter_api_data/ププリン.tsv')\n",
    "    df['text'] = df_purin['text']\n",
    "    df['label'] = df_purin['label'].apply(lambda x: int(x))\n",
    "    return pandas.concat([df, gen_1_label(df_pukurin), gen_1_label(df_pupurin)])\n",
    "\n",
    "df = gen()\n",
    "no_redistribution(df)"
   ]
  },
  {
   "cell_type": "code",
   "execution_count": 7,
   "metadata": {},
   "outputs": [],
   "source": [
    "df.to_csv('/app/data/purin.tsv', sep='\\t')"
   ]
  },
  {
   "cell_type": "code",
   "execution_count": null,
   "metadata": {},
   "outputs": [],
   "source": []
  }
 ],
 "metadata": {
  "interpreter": {
   "hash": "028baece2d5c9c450a926b56a2feb9be08d5da082e5e98dbd5d7f0ec42d420e8"
  },
  "kernelspec": {
   "display_name": "Python 3.10.0 64-bit ('purin-nlp-9TtSrW0h-py3.10': poetry)",
   "language": "python",
   "name": "python3"
  },
  "language_info": {
   "codemirror_mode": {
    "name": "ipython",
    "version": 3
   },
   "file_extension": ".py",
   "mimetype": "text/x-python",
   "name": "python",
   "nbconvert_exporter": "python",
   "pygments_lexer": "ipython3",
   "version": "3.10.0"
  },
  "orig_nbformat": 4
 },
 "nbformat": 4,
 "nbformat_minor": 2
}
